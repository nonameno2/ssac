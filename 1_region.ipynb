{
 "cells": [
  {
   "cell_type": "markdown",
   "id": "49472c50",
   "metadata": {},
   "source": [
    "지역별 코로나 누적 확진자수"
   ]
  },
  {
   "cell_type": "code",
   "execution_count": 1,
   "id": "af3b10b8",
   "metadata": {},
   "outputs": [],
   "source": [
    "from selenium import webdriver \n",
    "from bs4 import BeautifulSoup \n",
    "import pandas as pd"
   ]
  },
  {
   "cell_type": "code",
   "execution_count": 2,
   "id": "b3264d30",
   "metadata": {},
   "outputs": [],
   "source": [
    "# webdriver로 크롬 브라우저 실행하기\n",
    "browser = webdriver.Chrome('chromedriver.exe')     \n",
    "url = \"https://search.naver.com/search.naver?where=nexearch&sm=top_hty&fbm=1&ie=utf8&query=%EC%BD%94%EB%A1%9C%EB%82%98+%ED%98%84%ED%99%A9\" \n",
    "browser.get(url)"
   ]
  },
  {
   "cell_type": "code",
   "execution_count": 3,
   "id": "a5f9e484",
   "metadata": {},
   "outputs": [],
   "source": [
    "# 페이지 정보 가져오기\n",
    "html = browser.page_source\n",
    "soup = BeautifulSoup(html, 'html.parser')"
   ]
  },
  {
   "cell_type": "code",
   "execution_count": 4,
   "id": "2aa6ba56",
   "metadata": {},
   "outputs": [],
   "source": [
    "# 지역, 누적확진자 추출하기\n",
    "results = []\n",
    "data_list = soup.select('div.csp_table_area > div > table > tbody > tr')\n",
    "for i in data_list:\n",
    "    if i not in soup.select('div.overseas_table > div > table > tbody > tr'):\n",
    "        region = i.select('td.align_center > span.text')[0].text\n",
    "        case = i.select('td.align_right > span.text')[0].text\n",
    "        case = case.replace(',', '')\n",
    "        data = [region, case]\n",
    "        results.append(data)"
   ]
  },
  {
   "cell_type": "code",
   "execution_count": 5,
   "id": "41dc651d",
   "metadata": {},
   "outputs": [],
   "source": [
    "# 데이터 칼럼명을 설정하고 엑셀 파일로 저장하기\n",
    "df = pd.DataFrame(results)\n",
    "df.columns = ['region', 'case']\n",
    "df.to_excel('region.xlsx', index = False)    "
   ]
  },
  {
   "cell_type": "code",
   "execution_count": null,
   "id": "7605bcf2",
   "metadata": {},
   "outputs": [],
   "source": []
  }
 ],
 "metadata": {
  "kernelspec": {
   "display_name": "Python 3",
   "language": "python",
   "name": "python3"
  },
  "language_info": {
   "codemirror_mode": {
    "name": "ipython",
    "version": 3
   },
   "file_extension": ".py",
   "mimetype": "text/x-python",
   "name": "python",
   "nbconvert_exporter": "python",
   "pygments_lexer": "ipython3",
   "version": "3.8.11"
  }
 },
 "nbformat": 4,
 "nbformat_minor": 5
}
